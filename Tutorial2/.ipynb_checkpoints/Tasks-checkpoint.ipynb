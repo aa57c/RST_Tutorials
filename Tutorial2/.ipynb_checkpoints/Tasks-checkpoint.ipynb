{
 "cells": [
  {
   "cell_type": "markdown",
   "id": "bf64de64",
   "metadata": {},
   "source": [
    "TASK 1"
   ]
  },
  {
   "cell_type": "code",
   "execution_count": 1,
   "id": "4c202e16",
   "metadata": {},
   "outputs": [],
   "source": [
    "variable1 = 'Ashna Ali'"
   ]
  },
  {
   "cell_type": "code",
   "execution_count": 2,
   "id": "ec8185a7",
   "metadata": {},
   "outputs": [],
   "source": [
    "variable2 = ['Python', 'Machine Learning', 'Deep Learning']"
   ]
  },
  {
   "cell_type": "code",
   "execution_count": 3,
   "id": "3cb7d191",
   "metadata": {},
   "outputs": [],
   "source": [
    "variable3 = (4, 9, 16, 25)"
   ]
  },
  {
   "cell_type": "code",
   "execution_count": 4,
   "id": "323b908a",
   "metadata": {},
   "outputs": [],
   "source": [
    "variable4 = [2.0, 3.0, 5.0, 7.0, 11.0]"
   ]
  },
  {
   "cell_type": "code",
   "execution_count": 5,
   "id": "c37e0ec2",
   "metadata": {},
   "outputs": [],
   "source": [
    "variable5 = {'key1' : 65537 , 'key2' : 1729 , 'key3' : 1806}"
   ]
  },
  {
   "cell_type": "code",
   "execution_count": 6,
   "id": "86800451",
   "metadata": {},
   "outputs": [],
   "source": [
    "variable6 = {'key1' : 3.1415 , 'key2' : 2.68545 , 'key3' : 1.61803}"
   ]
  },
  {
   "cell_type": "code",
   "execution_count": 7,
   "id": "85ccd01f",
   "metadata": {},
   "outputs": [],
   "source": [
    "variable7 = {1: 'Jaime', 2: 'Jack', 3: 'Joey'}"
   ]
  },
  {
   "cell_type": "code",
   "execution_count": 9,
   "id": "8abd1364",
   "metadata": {},
   "outputs": [],
   "source": [
    "variable8 = {1: ['Jaime', 'Jack', 'Joey'], 2: ['Deo', 'Katie', 'Lauren'], 3: ['Mustafa', 'Luke', 'M']}"
   ]
  },
  {
   "cell_type": "markdown",
   "id": "66a22d4d",
   "metadata": {},
   "source": [
    "Activity 10"
   ]
  },
  {
   "cell_type": "code",
   "execution_count": 27,
   "id": "947fc2c9",
   "metadata": {},
   "outputs": [],
   "source": [
    "num1 = 1"
   ]
  },
  {
   "cell_type": "code",
   "execution_count": 28,
   "id": "51bb26f3",
   "metadata": {},
   "outputs": [],
   "source": [
    "num2 = 9"
   ]
  },
  {
   "cell_type": "code",
   "execution_count": 29,
   "id": "a17d89f1",
   "metadata": {},
   "outputs": [
    {
     "data": {
      "text/plain": [
       "10"
      ]
     },
     "execution_count": 29,
     "metadata": {},
     "output_type": "execute_result"
    }
   ],
   "source": [
    "num1 + num2"
   ]
  },
  {
   "cell_type": "code",
   "execution_count": 32,
   "id": "1d4a2ba2",
   "metadata": {},
   "outputs": [],
   "source": [
    "num3 = 18.98"
   ]
  },
  {
   "cell_type": "code",
   "execution_count": 33,
   "id": "48506bad",
   "metadata": {},
   "outputs": [],
   "source": [
    "num4 = 98.0"
   ]
  },
  {
   "cell_type": "code",
   "execution_count": 34,
   "id": "052398fa",
   "metadata": {},
   "outputs": [
    {
     "data": {
      "text/plain": [
       "-79.02"
      ]
     },
     "execution_count": 34,
     "metadata": {},
     "output_type": "execute_result"
    }
   ],
   "source": [
    "num3 - num4"
   ]
  },
  {
   "cell_type": "code",
   "execution_count": 35,
   "id": "249b5873",
   "metadata": {},
   "outputs": [],
   "source": [
    "str1 = '*'"
   ]
  },
  {
   "cell_type": "code",
   "execution_count": 36,
   "id": "02a7831b",
   "metadata": {},
   "outputs": [],
   "source": [
    "num5 = 8"
   ]
  },
  {
   "cell_type": "code",
   "execution_count": 37,
   "id": "869033f2",
   "metadata": {},
   "outputs": [
    {
     "data": {
      "text/plain": [
       "'********'"
      ]
     },
     "execution_count": 37,
     "metadata": {},
     "output_type": "execute_result"
    }
   ],
   "source": [
    "str1 * num5"
   ]
  },
  {
   "cell_type": "code",
   "execution_count": 38,
   "id": "7249c83c",
   "metadata": {},
   "outputs": [
    {
     "data": {
      "text/plain": [
       "2.108888888888889"
      ]
     },
     "execution_count": 38,
     "metadata": {},
     "output_type": "execute_result"
    }
   ],
   "source": [
    "num3 / num2"
   ]
  },
  {
   "cell_type": "code",
   "execution_count": 39,
   "id": "05052653",
   "metadata": {},
   "outputs": [
    {
     "data": {
      "text/plain": [
       "8.0"
      ]
     },
     "execution_count": 39,
     "metadata": {},
     "output_type": "execute_result"
    }
   ],
   "source": [
    "num4 % num2"
   ]
  },
  {
   "cell_type": "code",
   "execution_count": 40,
   "id": "437cb7b9",
   "metadata": {},
   "outputs": [
    {
     "data": {
      "text/plain": [
       "3.279185047850306e+93"
      ]
     },
     "execution_count": 40,
     "metadata": {},
     "output_type": "execute_result"
    }
   ],
   "source": [
    "num2 ** num4"
   ]
  },
  {
   "cell_type": "markdown",
   "id": "3460fe43",
   "metadata": {},
   "source": [
    "Activity 11"
   ]
  },
  {
   "cell_type": "code",
   "execution_count": 41,
   "id": "850423df",
   "metadata": {},
   "outputs": [
    {
     "data": {
      "text/plain": [
       "'Ashna Ali*'"
      ]
     },
     "execution_count": 41,
     "metadata": {},
     "output_type": "execute_result"
    }
   ],
   "source": [
    "variable1 + str1"
   ]
  },
  {
   "cell_type": "code",
   "execution_count": 42,
   "id": "aac7f665",
   "metadata": {},
   "outputs": [
    {
     "ename": "TypeError",
     "evalue": "can only concatenate str (not \"int\") to str",
     "output_type": "error",
     "traceback": [
      "\u001b[1;31m---------------------------------------------------------------------------\u001b[0m",
      "\u001b[1;31mTypeError\u001b[0m                                 Traceback (most recent call last)",
      "\u001b[1;32m~\\AppData\\Local\\Temp\\ipykernel_3824\\3368831838.py\u001b[0m in \u001b[0;36m<module>\u001b[1;34m\u001b[0m\n\u001b[1;32m----> 1\u001b[1;33m \u001b[0mvariable1\u001b[0m \u001b[1;33m+\u001b[0m \u001b[0mnum2\u001b[0m\u001b[1;33m\u001b[0m\u001b[1;33m\u001b[0m\u001b[0m\n\u001b[0m",
      "\u001b[1;31mTypeError\u001b[0m: can only concatenate str (not \"int\") to str"
     ]
    }
   ],
   "source": [
    "variable1 + num2"
   ]
  },
  {
   "cell_type": "code",
   "execution_count": 43,
   "id": "bd562f16",
   "metadata": {},
   "outputs": [
    {
     "data": {
      "text/plain": [
       "'Ashna Ali9'"
      ]
     },
     "execution_count": 43,
     "metadata": {},
     "output_type": "execute_result"
    }
   ],
   "source": [
    "variable1 + str(num2)"
   ]
  },
  {
   "cell_type": "code",
   "execution_count": 45,
   "id": "bb281678",
   "metadata": {},
   "outputs": [
    {
     "data": {
      "text/plain": [
       "['Python', 'Machine Learning', 'Deep Learning', 2.0, 3.0, 5.0, 7.0, 11.0]"
      ]
     },
     "execution_count": 45,
     "metadata": {},
     "output_type": "execute_result"
    }
   ],
   "source": [
    "variable2 + variable4"
   ]
  },
  {
   "cell_type": "markdown",
   "id": "7f298991",
   "metadata": {},
   "source": [
    "Activity 12"
   ]
  },
  {
   "cell_type": "code",
   "execution_count": 46,
   "id": "1a355a0e",
   "metadata": {},
   "outputs": [
    {
     "data": {
      "text/plain": [
       "False"
      ]
     },
     "execution_count": 46,
     "metadata": {},
     "output_type": "execute_result"
    }
   ],
   "source": [
    "num1 > num2"
   ]
  },
  {
   "cell_type": "code",
   "execution_count": 47,
   "id": "c4eddd79",
   "metadata": {},
   "outputs": [
    {
     "data": {
      "text/plain": [
       "True"
      ]
     },
     "execution_count": 47,
     "metadata": {},
     "output_type": "execute_result"
    }
   ],
   "source": [
    "num3 < num4"
   ]
  },
  {
   "cell_type": "code",
   "execution_count": 48,
   "id": "aee79bbd",
   "metadata": {},
   "outputs": [],
   "source": [
    "num6 = 9"
   ]
  },
  {
   "cell_type": "code",
   "execution_count": 49,
   "id": "10a4d895",
   "metadata": {},
   "outputs": [
    {
     "data": {
      "text/plain": [
       "True"
      ]
     },
     "execution_count": 49,
     "metadata": {},
     "output_type": "execute_result"
    }
   ],
   "source": [
    "num6 >= num1"
   ]
  },
  {
   "cell_type": "code",
   "execution_count": 1,
   "id": "35163ef9",
   "metadata": {},
   "outputs": [],
   "source": [
    "float1 = 10.190876"
   ]
  },
  {
   "cell_type": "code",
   "execution_count": 2,
   "id": "616d738e",
   "metadata": {},
   "outputs": [],
   "source": [
    "float2 = 10.2345670"
   ]
  },
  {
   "cell_type": "code",
   "execution_count": 3,
   "id": "0c4a9762",
   "metadata": {},
   "outputs": [
    {
     "data": {
      "text/plain": [
       "True"
      ]
     },
     "execution_count": 3,
     "metadata": {},
     "output_type": "execute_result"
    }
   ],
   "source": [
    "float1 <= float2"
   ]
  },
  {
   "cell_type": "code",
   "execution_count": 4,
   "id": "7d230157",
   "metadata": {},
   "outputs": [],
   "source": [
    "str2 = \"apple\""
   ]
  },
  {
   "cell_type": "code",
   "execution_count": 5,
   "id": "31498085",
   "metadata": {},
   "outputs": [],
   "source": [
    "str3 = \"Apple\""
   ]
  },
  {
   "cell_type": "code",
   "execution_count": 6,
   "id": "094033f8",
   "metadata": {},
   "outputs": [
    {
     "data": {
      "text/plain": [
       "False"
      ]
     },
     "execution_count": 6,
     "metadata": {},
     "output_type": "execute_result"
    }
   ],
   "source": [
    "str2 == str3"
   ]
  },
  {
   "cell_type": "code",
   "execution_count": 8,
   "id": "f7c4039b",
   "metadata": {},
   "outputs": [
    {
     "data": {
      "text/plain": [
       "True"
      ]
     },
     "execution_count": 8,
     "metadata": {},
     "output_type": "execute_result"
    }
   ],
   "source": [
    "str2 != str3"
   ]
  },
  {
   "cell_type": "markdown",
   "id": "26441c0c",
   "metadata": {},
   "source": [
    "Activity 13"
   ]
  },
  {
   "cell_type": "code",
   "execution_count": 9,
   "id": "3774fba7",
   "metadata": {},
   "outputs": [
    {
     "data": {
      "text/plain": [
       "True"
      ]
     },
     "execution_count": 9,
     "metadata": {},
     "output_type": "execute_result"
    }
   ],
   "source": [
    "\"Ash\" in \"Ashna\""
   ]
  },
  {
   "cell_type": "code",
   "execution_count": 10,
   "id": "bba1eb59",
   "metadata": {},
   "outputs": [
    {
     "data": {
      "text/plain": [
       "False"
      ]
     },
     "execution_count": 10,
     "metadata": {},
     "output_type": "execute_result"
    }
   ],
   "source": [
    "str2 == str3 and float1 <= float2"
   ]
  },
  {
   "cell_type": "code",
   "execution_count": 11,
   "id": "be65821c",
   "metadata": {},
   "outputs": [
    {
     "data": {
      "text/plain": [
       "6"
      ]
     },
     "execution_count": 11,
     "metadata": {},
     "output_type": "execute_result"
    }
   ],
   "source": [
    "6 or 6"
   ]
  },
  {
   "cell_type": "code",
   "execution_count": 12,
   "id": "313102cb",
   "metadata": {},
   "outputs": [
    {
     "data": {
      "text/plain": [
       "False"
      ]
     },
     "execution_count": 12,
     "metadata": {},
     "output_type": "execute_result"
    }
   ],
   "source": [
    "not(True)"
   ]
  },
  {
   "cell_type": "code",
   "execution_count": 13,
   "id": "d3a804f5",
   "metadata": {},
   "outputs": [],
   "source": [
    "int1 = -9"
   ]
  },
  {
   "cell_type": "code",
   "execution_count": 14,
   "id": "71cb880b",
   "metadata": {},
   "outputs": [],
   "source": [
    "int2 = -9"
   ]
  },
  {
   "cell_type": "code",
   "execution_count": 17,
   "id": "083f67e0",
   "metadata": {},
   "outputs": [
    {
     "data": {
      "text/plain": [
       "False"
      ]
     },
     "execution_count": 17,
     "metadata": {},
     "output_type": "execute_result"
    }
   ],
   "source": [
    "int1 is int2"
   ]
  },
  {
   "cell_type": "markdown",
   "id": "92f42eaa",
   "metadata": {},
   "source": [
    "Activity 14"
   ]
  },
  {
   "cell_type": "code",
   "execution_count": 18,
   "id": "79b6feca",
   "metadata": {},
   "outputs": [],
   "source": [
    "name = \"Ashna\""
   ]
  },
  {
   "cell_type": "code",
   "execution_count": 19,
   "id": "7c202cce",
   "metadata": {},
   "outputs": [],
   "source": [
    "name2 = \"Aaron\""
   ]
  },
  {
   "cell_type": "code",
   "execution_count": 20,
   "id": "1c162ad2",
   "metadata": {},
   "outputs": [
    {
     "name": "stdout",
     "output_type": "stream",
     "text": [
      "They start with the same letter\n"
     ]
    }
   ],
   "source": [
    "if name[0] == name2[0]:\n",
    "    print(\"They start with the same letter\")"
   ]
  },
  {
   "cell_type": "markdown",
   "id": "26da774b",
   "metadata": {},
   "source": [
    "Activity 15"
   ]
  },
  {
   "cell_type": "code",
   "execution_count": 24,
   "id": "e2bf9544",
   "metadata": {},
   "outputs": [],
   "source": [
    "budget = 50"
   ]
  },
  {
   "cell_type": "code",
   "execution_count": 30,
   "id": "7d3ae916",
   "metadata": {},
   "outputs": [
    {
     "name": "stdout",
     "output_type": "stream",
     "text": [
      "budget is just right\n"
     ]
    }
   ],
   "source": [
    "if budget > 50:\n",
    "    print(\"budget is too high\")\n",
    "elif budget < 50 and budget > 40:\n",
    "    print(\"budget is too low\")\n",
    "else:\n",
    "    print(\"budget is just right\")"
   ]
  },
  {
   "cell_type": "markdown",
   "id": "552dc2cc",
   "metadata": {},
   "source": [
    "Activity 16"
   ]
  },
  {
   "cell_type": "code",
   "execution_count": 31,
   "id": "a016bd35",
   "metadata": {},
   "outputs": [
    {
     "name": "stdout",
     "output_type": "stream",
     "text": [
      "1\n",
      "2\n",
      "3\n",
      "4\n"
     ]
    }
   ],
   "source": [
    "for num in range(1, 5):\n",
    "    print(num)"
   ]
  },
  {
   "cell_type": "markdown",
   "id": "9571dcb7",
   "metadata": {},
   "source": [
    "Activity 17"
   ]
  },
  {
   "cell_type": "code",
   "execution_count": 32,
   "id": "ed0770d4",
   "metadata": {},
   "outputs": [],
   "source": [
    "i = 1"
   ]
  },
  {
   "cell_type": "code",
   "execution_count": 33,
   "id": "3c1c0014",
   "metadata": {},
   "outputs": [
    {
     "name": "stdout",
     "output_type": "stream",
     "text": [
      "1\n",
      "2\n",
      "3\n",
      "4\n",
      "5\n"
     ]
    }
   ],
   "source": [
    "while i < 6:\n",
    "    print(i)\n",
    "    i += 1"
   ]
  },
  {
   "cell_type": "markdown",
   "id": "4f536f6d",
   "metadata": {},
   "source": [
    "TASK 2"
   ]
  },
  {
   "cell_type": "markdown",
   "id": "f689c3d7",
   "metadata": {},
   "source": [
    "Example 1"
   ]
  },
  {
   "cell_type": "code",
   "execution_count": 34,
   "id": "cf0da7e7",
   "metadata": {},
   "outputs": [],
   "source": [
    "def hello_world():\n",
    "    print(\"Hello World! This is Ashna\")\n",
    "    return"
   ]
  },
  {
   "cell_type": "code",
   "execution_count": 35,
   "id": "0c9666f0",
   "metadata": {},
   "outputs": [
    {
     "name": "stdout",
     "output_type": "stream",
     "text": [
      "Hello World! This is Ashna\n"
     ]
    }
   ],
   "source": [
    "hello_world()"
   ]
  },
  {
   "cell_type": "markdown",
   "id": "23ca0fa1",
   "metadata": {},
   "source": [
    "Example 2"
   ]
  },
  {
   "cell_type": "code",
   "execution_count": 36,
   "id": "10ce09d4",
   "metadata": {},
   "outputs": [],
   "source": [
    "def calc_hyp(side_1, side_2):\n",
    "    import numpy as np\n",
    "    hyp = np.sqrt(side_1**2+side_2**2)\n",
    "    return hyp"
   ]
  },
  {
   "cell_type": "code",
   "execution_count": 38,
   "id": "43dfe7c6",
   "metadata": {},
   "outputs": [],
   "source": [
    "hypot = calc_hyp(5.0, 6.0)"
   ]
  },
  {
   "cell_type": "markdown",
   "id": "9a5bf101",
   "metadata": {},
   "source": [
    "Example 3"
   ]
  },
  {
   "cell_type": "code",
   "execution_count": 39,
   "id": "01b08d6b",
   "metadata": {},
   "outputs": [],
   "source": [
    "def area_triang(b, h):\n",
    "    area = (b * h) / 2.0\n",
    "    return area"
   ]
  },
  {
   "cell_type": "code",
   "execution_count": 40,
   "id": "21020c82",
   "metadata": {},
   "outputs": [],
   "source": [
    "def compute_props(side_1, side_2):\n",
    "    hyp = calc_hyp(side_1, side_2)\n",
    "    a = area_triang(side_1, side_2)\n",
    "    return hyp, a"
   ]
  },
  {
   "cell_type": "code",
   "execution_count": 41,
   "id": "d777fc22",
   "metadata": {},
   "outputs": [],
   "source": [
    "hypot = compute_props(5.0, 6.0)"
   ]
  },
  {
   "cell_type": "markdown",
   "id": "8ce6d142",
   "metadata": {},
   "source": [
    "TASK 3"
   ]
  },
  {
   "cell_type": "code",
   "execution_count": 44,
   "id": "f51c142c",
   "metadata": {},
   "outputs": [],
   "source": [
    "# a\n",
    "def euclidian_distance(x, y):\n",
    "    import numpy as np\n",
    "    e_distance = np.sqrt((x[0] - y[0])**2 + (x[1] - y[1])**2)\n",
    "    return e_distance"
   ]
  },
  {
   "cell_type": "code",
   "execution_count": 45,
   "id": "ce57455f",
   "metadata": {},
   "outputs": [
    {
     "name": "stdout",
     "output_type": "stream",
     "text": [
      "2.23606797749979\n"
     ]
    }
   ],
   "source": [
    "point_a = (1, 2)\n",
    "point_b = (2, 4)\n",
    "euc_dist = euclidian_distance(point_a, point_b)\n",
    "print(euc_dist)"
   ]
  },
  {
   "cell_type": "code",
   "execution_count": 46,
   "id": "303a0701",
   "metadata": {},
   "outputs": [],
   "source": [
    "# b\n",
    "def circle_area(r):\n",
    "    c_area = 0.0\n",
    "    import math\n",
    "    c_area = math.pi * r**2\n",
    "    return c_area"
   ]
  },
  {
   "cell_type": "code",
   "execution_count": 47,
   "id": "eaa82cd6",
   "metadata": {},
   "outputs": [
    {
     "name": "stdout",
     "output_type": "stream",
     "text": [
      "78.53981633974483\n"
     ]
    }
   ],
   "source": [
    "radius = 5.0\n",
    "circleArea = circle_area(radius)\n",
    "print(circleArea)"
   ]
  },
  {
   "cell_type": "code",
   "execution_count": 49,
   "id": "0f853cbe",
   "metadata": {},
   "outputs": [],
   "source": [
    "# c"
   ]
  },
  {
   "cell_type": "code",
   "execution_count": 51,
   "id": "bd80143c",
   "metadata": {},
   "outputs": [],
   "source": [
    "def square_of_dict_values(my_Dict):\n",
    "    my_Dict_square = {}\n",
    "    for k, v in my_Dict.items():\n",
    "        my_Dict_square[k] = v**2\n",
    "    return my_Dict_square"
   ]
  },
  {
   "cell_type": "code",
   "execution_count": 53,
   "id": "dae083bb",
   "metadata": {},
   "outputs": [
    {
     "name": "stdout",
     "output_type": "stream",
     "text": [
      "{'one': 1, 'two': 4, 'three': 9, 'four': 16, 'five': 25}\n"
     ]
    }
   ],
   "source": [
    "my_Dict = {\"one\": 1, \"two\": 2, \"three\": 3, \"four\": 4, \"five\": 5 }\n",
    "my_Dict_sq = square_of_dict_values(my_Dict)\n",
    "print(my_Dict_sq)"
   ]
  }
 ],
 "metadata": {
  "kernelspec": {
   "display_name": "Python 3 (ipykernel)",
   "language": "python",
   "name": "python3"
  },
  "language_info": {
   "codemirror_mode": {
    "name": "ipython",
    "version": 3
   },
   "file_extension": ".py",
   "mimetype": "text/x-python",
   "name": "python",
   "nbconvert_exporter": "python",
   "pygments_lexer": "ipython3",
   "version": "3.9.13"
  }
 },
 "nbformat": 4,
 "nbformat_minor": 5
}
