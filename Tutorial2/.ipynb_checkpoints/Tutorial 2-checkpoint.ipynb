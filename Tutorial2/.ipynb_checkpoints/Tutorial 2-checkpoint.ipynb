{
 "cells": [
  {
   "cell_type": "markdown",
   "id": "2b0dcc2b",
   "metadata": {},
   "source": [
    "# Activity 1"
   ]
  },
  {
   "cell_type": "code",
   "execution_count": 2,
   "id": "228d8c2c",
   "metadata": {},
   "outputs": [],
   "source": [
    "integer_number = 2"
   ]
  },
  {
   "cell_type": "code",
   "execution_count": 3,
   "id": "69d7bcb7",
   "metadata": {},
   "outputs": [],
   "source": [
    "float_number = 2.0"
   ]
  },
  {
   "cell_type": "code",
   "execution_count": 9,
   "id": "dda53f97",
   "metadata": {},
   "outputs": [],
   "source": [
    "example_string = 'my name is AgentM'"
   ]
  },
  {
   "cell_type": "code",
   "execution_count": 5,
   "id": "cd30d133",
   "metadata": {},
   "outputs": [],
   "source": [
    "example_tuple = (1,2,3,4)"
   ]
  },
  {
   "cell_type": "code",
   "execution_count": 6,
   "id": "ad35cfcb",
   "metadata": {},
   "outputs": [],
   "source": [
    "example_int_list = [1,2,3,4]"
   ]
  },
  {
   "cell_type": "code",
   "execution_count": 8,
   "id": "882822ed",
   "metadata": {},
   "outputs": [],
   "source": [
    "example_dictionary = {'one': 1, 'two': 2, 'three': 3}"
   ]
  },
  {
   "cell_type": "markdown",
   "id": "f5745cc5",
   "metadata": {},
   "source": [
    "# Activity 2"
   ]
  },
  {
   "cell_type": "code",
   "execution_count": 10,
   "id": "ea12ade6",
   "metadata": {},
   "outputs": [
    {
     "name": "stdout",
     "output_type": "stream",
     "text": [
      "2\n"
     ]
    }
   ],
   "source": [
    "print(integer_number)"
   ]
  },
  {
   "cell_type": "code",
   "execution_count": 11,
   "id": "a79aa5ee",
   "metadata": {},
   "outputs": [
    {
     "name": "stdout",
     "output_type": "stream",
     "text": [
      "2.0\n"
     ]
    }
   ],
   "source": [
    "print(float_number)"
   ]
  },
  {
   "cell_type": "code",
   "execution_count": 12,
   "id": "6511f20a",
   "metadata": {},
   "outputs": [
    {
     "name": "stdout",
     "output_type": "stream",
     "text": [
      "my name is AgentM\n"
     ]
    }
   ],
   "source": [
    "print(example_string)"
   ]
  },
  {
   "cell_type": "code",
   "execution_count": 13,
   "id": "eb6381d4",
   "metadata": {},
   "outputs": [
    {
     "name": "stdout",
     "output_type": "stream",
     "text": [
      "(1, 2, 3, 4)\n"
     ]
    }
   ],
   "source": [
    "print(example_tuple)"
   ]
  },
  {
   "cell_type": "code",
   "execution_count": 14,
   "id": "536d6ec0",
   "metadata": {},
   "outputs": [
    {
     "name": "stdout",
     "output_type": "stream",
     "text": [
      "[1, 2, 3, 4]\n"
     ]
    }
   ],
   "source": [
    "print(example_int_list)"
   ]
  },
  {
   "cell_type": "code",
   "execution_count": 15,
   "id": "d21ae19c",
   "metadata": {},
   "outputs": [
    {
     "name": "stdout",
     "output_type": "stream",
     "text": [
      "{'one': 1, 'two': 2, 'three': 3}\n"
     ]
    }
   ],
   "source": [
    "print(example_dictionary)"
   ]
  },
  {
   "cell_type": "markdown",
   "id": "1134cc07",
   "metadata": {},
   "source": [
    "# Activity 3"
   ]
  },
  {
   "cell_type": "code",
   "execution_count": 16,
   "id": "b8b44b6f",
   "metadata": {},
   "outputs": [
    {
     "data": {
      "text/plain": [
       "int"
      ]
     },
     "execution_count": 16,
     "metadata": {},
     "output_type": "execute_result"
    }
   ],
   "source": [
    "type(integer_number)"
   ]
  },
  {
   "cell_type": "code",
   "execution_count": 17,
   "id": "f3eb9328",
   "metadata": {},
   "outputs": [
    {
     "data": {
      "text/plain": [
       "float"
      ]
     },
     "execution_count": 17,
     "metadata": {},
     "output_type": "execute_result"
    }
   ],
   "source": [
    "type(float_number)"
   ]
  },
  {
   "cell_type": "code",
   "execution_count": 18,
   "id": "23e205b0",
   "metadata": {},
   "outputs": [
    {
     "data": {
      "text/plain": [
       "str"
      ]
     },
     "execution_count": 18,
     "metadata": {},
     "output_type": "execute_result"
    }
   ],
   "source": [
    "type(example_string)"
   ]
  },
  {
   "cell_type": "code",
   "execution_count": 19,
   "id": "20465503",
   "metadata": {},
   "outputs": [
    {
     "data": {
      "text/plain": [
       "tuple"
      ]
     },
     "execution_count": 19,
     "metadata": {},
     "output_type": "execute_result"
    }
   ],
   "source": [
    "type(example_tuple)"
   ]
  },
  {
   "cell_type": "code",
   "execution_count": 20,
   "id": "531b92f6",
   "metadata": {},
   "outputs": [
    {
     "data": {
      "text/plain": [
       "list"
      ]
     },
     "execution_count": 20,
     "metadata": {},
     "output_type": "execute_result"
    }
   ],
   "source": [
    "type(example_int_list)"
   ]
  },
  {
   "cell_type": "code",
   "execution_count": 21,
   "id": "928de8bc",
   "metadata": {},
   "outputs": [
    {
     "data": {
      "text/plain": [
       "dict"
      ]
     },
     "execution_count": 21,
     "metadata": {},
     "output_type": "execute_result"
    }
   ],
   "source": [
    "type(example_dictionary)"
   ]
  },
  {
   "cell_type": "markdown",
   "id": "01a65f07",
   "metadata": {},
   "source": [
    "# Activity 4"
   ]
  },
  {
   "cell_type": "code",
   "execution_count": 22,
   "id": "8c2b7eca",
   "metadata": {},
   "outputs": [
    {
     "data": {
      "text/plain": [
       "2"
      ]
     },
     "execution_count": 22,
     "metadata": {},
     "output_type": "execute_result"
    }
   ],
   "source": [
    "int(float_number)"
   ]
  },
  {
   "cell_type": "code",
   "execution_count": 24,
   "id": "3f9c4d0b",
   "metadata": {},
   "outputs": [
    {
     "data": {
      "text/plain": [
       "2.0"
      ]
     },
     "execution_count": 24,
     "metadata": {},
     "output_type": "execute_result"
    }
   ],
   "source": [
    "float(integer_number)"
   ]
  },
  {
   "cell_type": "code",
   "execution_count": 25,
   "id": "9c2bb88c",
   "metadata": {},
   "outputs": [
    {
     "ename": "ValueError",
     "evalue": "invalid literal for int() with base 10: '2.0'",
     "output_type": "error",
     "traceback": [
      "\u001b[1;31m---------------------------------------------------------------------------\u001b[0m",
      "\u001b[1;31mValueError\u001b[0m                                Traceback (most recent call last)",
      "\u001b[1;32m~\\AppData\\Local\\Temp\\ipykernel_7968\\2521216723.py\u001b[0m in \u001b[0;36m<module>\u001b[1;34m\u001b[0m\n\u001b[1;32m----> 1\u001b[1;33m \u001b[0mint\u001b[0m\u001b[1;33m(\u001b[0m\u001b[1;34m'2.0'\u001b[0m\u001b[1;33m)\u001b[0m\u001b[1;33m\u001b[0m\u001b[1;33m\u001b[0m\u001b[0m\n\u001b[0m",
      "\u001b[1;31mValueError\u001b[0m: invalid literal for int() with base 10: '2.0'"
     ]
    }
   ],
   "source": [
    "int('2.0')"
   ]
  },
  {
   "cell_type": "code",
   "execution_count": 26,
   "id": "f7960931",
   "metadata": {},
   "outputs": [
    {
     "data": {
      "text/plain": [
       "2.0"
      ]
     },
     "execution_count": 26,
     "metadata": {},
     "output_type": "execute_result"
    }
   ],
   "source": [
    "float('2.0')"
   ]
  },
  {
   "cell_type": "code",
   "execution_count": 27,
   "id": "56bedcdd",
   "metadata": {},
   "outputs": [
    {
     "data": {
      "text/plain": [
       "'1'"
      ]
     },
     "execution_count": 27,
     "metadata": {},
     "output_type": "execute_result"
    }
   ],
   "source": [
    "str(1)"
   ]
  },
  {
   "cell_type": "markdown",
   "id": "2bb6aef6",
   "metadata": {},
   "source": [
    "# Activity 5"
   ]
  },
  {
   "cell_type": "code",
   "execution_count": 35,
   "id": "d6568a56",
   "metadata": {},
   "outputs": [],
   "source": [
    "name = 'ashna-ali'"
   ]
  },
  {
   "cell_type": "code",
   "execution_count": 36,
   "id": "4c22f606",
   "metadata": {},
   "outputs": [
    {
     "data": {
      "text/plain": [
       "'ASHNA-ALI'"
      ]
     },
     "execution_count": 36,
     "metadata": {},
     "output_type": "execute_result"
    }
   ],
   "source": [
    "name.upper()"
   ]
  },
  {
   "cell_type": "code",
   "execution_count": 37,
   "id": "9676f469",
   "metadata": {},
   "outputs": [
    {
     "name": "stdout",
     "output_type": "stream",
     "text": [
      "ashna-ali\n"
     ]
    }
   ],
   "source": [
    "print(my_name)"
   ]
  },
  {
   "cell_type": "code",
   "execution_count": 38,
   "id": "f87375b1",
   "metadata": {},
   "outputs": [],
   "source": [
    "upper_case_name = name.upper()"
   ]
  },
  {
   "cell_type": "code",
   "execution_count": 39,
   "id": "1d4be4b2",
   "metadata": {},
   "outputs": [],
   "source": [
    "my_list = ['John', 'Mary', 'Ethan']"
   ]
  },
  {
   "cell_type": "code",
   "execution_count": 40,
   "id": "6542888c",
   "metadata": {},
   "outputs": [],
   "source": [
    "my_list.reverse()"
   ]
  },
  {
   "cell_type": "code",
   "execution_count": 41,
   "id": "deb88c65",
   "metadata": {},
   "outputs": [
    {
     "name": "stdout",
     "output_type": "stream",
     "text": [
      "['Ethan', 'Mary', 'John']\n"
     ]
    }
   ],
   "source": [
    "print(my_list)"
   ]
  },
  {
   "cell_type": "markdown",
   "id": "982ca20a",
   "metadata": {},
   "source": [
    "# Activity 6 & 7"
   ]
  },
  {
   "cell_type": "code",
   "execution_count": 43,
   "id": "f659b287",
   "metadata": {},
   "outputs": [],
   "source": [
    "my_str = 'the apple does not fall far from the tree'"
   ]
  },
  {
   "cell_type": "code",
   "execution_count": 44,
   "id": "e9b37579",
   "metadata": {},
   "outputs": [
    {
     "data": {
      "text/plain": [
       "41"
      ]
     },
     "execution_count": 44,
     "metadata": {},
     "output_type": "execute_result"
    }
   ],
   "source": [
    "len(my_str)"
   ]
  },
  {
   "cell_type": "code",
   "execution_count": 45,
   "id": "8e2e9aaf",
   "metadata": {},
   "outputs": [],
   "source": [
    "my_tuple = (14, 28, 100, 76, 54, 60)"
   ]
  },
  {
   "cell_type": "code",
   "execution_count": 46,
   "id": "e377517a",
   "metadata": {},
   "outputs": [
    {
     "data": {
      "text/plain": [
       "6"
      ]
     },
     "execution_count": 46,
     "metadata": {},
     "output_type": "execute_result"
    }
   ],
   "source": [
    "len(my_tuple)"
   ]
  },
  {
   "cell_type": "code",
   "execution_count": 47,
   "id": "6fdea17d",
   "metadata": {},
   "outputs": [],
   "source": [
    "list_of_fruits = ['apple', 'grapes', 'pineapple', 'orange', 'strawberry']"
   ]
  },
  {
   "cell_type": "code",
   "execution_count": 48,
   "id": "278426f6",
   "metadata": {},
   "outputs": [
    {
     "data": {
      "text/plain": [
       "5"
      ]
     },
     "execution_count": 48,
     "metadata": {},
     "output_type": "execute_result"
    }
   ],
   "source": [
    "len(list_of_fruits)"
   ]
  },
  {
   "cell_type": "code",
   "execution_count": 49,
   "id": "447ef00e",
   "metadata": {},
   "outputs": [
    {
     "name": "stdout",
     "output_type": "stream",
     "text": [
      "e\n"
     ]
    }
   ],
   "source": [
    "print(my_str[2])"
   ]
  },
  {
   "cell_type": "code",
   "execution_count": 50,
   "id": "9ff2a067",
   "metadata": {},
   "outputs": [
    {
     "name": "stdout",
     "output_type": "stream",
     "text": [
      "54\n"
     ]
    }
   ],
   "source": [
    "print(my_tuple[4])"
   ]
  },
  {
   "cell_type": "markdown",
   "id": "49581ab1",
   "metadata": {},
   "source": [
    "# Activity 8"
   ]
  },
  {
   "cell_type": "code",
   "execution_count": 54,
   "id": "aa039f01",
   "metadata": {},
   "outputs": [],
   "source": [
    "dict_of_books = {1: 'Percy Jackson', 2: 'Shatter Me', 3: 'Throne of Glass', 4: 'A Crown of Thorns and Roses', 5: 'Twilight', 6: 'The School for Good and Evil'}"
   ]
  },
  {
   "cell_type": "code",
   "execution_count": 55,
   "id": "67ed25a8",
   "metadata": {},
   "outputs": [
    {
     "data": {
      "text/plain": [
       "6"
      ]
     },
     "execution_count": 55,
     "metadata": {},
     "output_type": "execute_result"
    }
   ],
   "source": [
    "len(dict_of_books)"
   ]
  },
  {
   "cell_type": "code",
   "execution_count": 56,
   "id": "afe323f6",
   "metadata": {},
   "outputs": [
    {
     "data": {
      "text/plain": [
       "'Throne of Glass'"
      ]
     },
     "execution_count": 56,
     "metadata": {},
     "output_type": "execute_result"
    }
   ],
   "source": [
    "dict_of_books[3]"
   ]
  }
 ],
 "metadata": {
  "kernelspec": {
   "display_name": "Python 3 (ipykernel)",
   "language": "python",
   "name": "python3"
  },
  "language_info": {
   "codemirror_mode": {
    "name": "ipython",
    "version": 3
   },
   "file_extension": ".py",
   "mimetype": "text/x-python",
   "name": "python",
   "nbconvert_exporter": "python",
   "pygments_lexer": "ipython3",
   "version": "3.9.13"
  }
 },
 "nbformat": 4,
 "nbformat_minor": 5
}
